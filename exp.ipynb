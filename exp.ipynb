{
 "cells": [
  {
   "cell_type": "code",
   "execution_count": 1,
   "metadata": {},
   "outputs": [],
   "source": [
    "from engine import PatentRetrievalService"
   ]
  },
  {
   "cell_type": "code",
   "execution_count": 13,
   "metadata": {},
   "outputs": [
    {
     "name": "stderr",
     "output_type": "stream",
     "text": [
      "Batches: 100%|██████████| 149/149 [01:58<00:00,  1.25it/s]\n"
     ]
    }
   ],
   "source": [
    "service = PatentRetrievalService('data.txt')\n"
   ]
  },
  {
   "cell_type": "code",
   "execution_count": null,
   "metadata": {},
   "outputs": [],
   "source": [
    "results = service.retrieve_patents(\n",
    "    keywords=[\"neural networks\"],\n",
    "    precision_recall_balance=0.7\n",
    ")"
   ]
  },
  {
   "cell_type": "code",
   "execution_count": 10,
   "metadata": {},
   "outputs": [
    {
     "data": {
      "text/plain": [
       "{'retrieved_patents': [{'abstract': 'Ein Blockchain-System (100) für transparentes Lieferkettenmanagement, wobei das System (100) Folgendes umfasst:  eine Datenerfassungseinheit (102) zum Erfassen einer Kombination aus mehreren Eingabedaten, die auf einem Produkt von einem Lieferanten basieren und in einer Blockchain (102a) gespeichert sind;  ein Internet der Dinge (IoT)-Sensor (104), der in einem Produktionsgerät und einem Lagerbereich eingebettet ist, um Temperatur und Luftfeuchtigkeit während des gesamten Herstellungsprozesses kontinuierlich zu überwachen und in der Blockchain (102a) gespeichert ist;  eine Verarbeitungseinheit (106) zum Verarbeiten der erfassten Daten, um die Datenelemente zu identifizieren, die mittels eines Smart Contracts in einem Blockchain-Netzwerk erfasst werden sollen, wobei der Smart Contract einen Vergleich und eine Überprüfung der Eingabedaten auf der Grundlage vorgespeicherter Daten durchführt, um die Authentizität der Eingabedaten zu bewerten und die Gesamtleistung des Lieferanten zu beurteilen; und  eine in die Verarbeitungseinheit (106) integrierte Steuereinheit (108) zum Durchführen einer Autorisierung einer Person, um Zugriff auf eine Blockkette zur Datenänderung zu gewähren.',\n",
       "   'relevance_score': 0.6608981490135193,\n",
       "   'explanation': 'Semantic Match: 0 direct keywords, Average Semantic Similarity: 1.49'},\n",
       "  {'abstract': 'Ein System (100) zum Schutz gegen Kurzschlüsse in Wechselstrom-Mikronetzen, wobei das System (100) Folgendes umfasst:einen Indexprüfstand (102), der aus einer Vielzahl von Windturbinen (102c) als Mikroquelle auf der Grundlage eines doppelt gespeisten Induktionsgenerators (102a) und einer Vielzahl von Steuersystemen (102b) besteht, wobei der Indexprüfstand einer Zeitbereichs-Sprungantwortanalyse unterzogen wird;ein Mikroquellen- und Zuleitungs-Subrelais (104), das in der Prüfumgebung (102) enthalten ist, um eine Kurzschlusserkennung durchzuführen, indem tatsächliche Mikroquellen- und Zuleitungsflüsse mit entsprechenden Nennkapazitäten zusammen mit der zulässigen Toleranz hinsichtlich einer Vielzahl von Parametern verglichen werden; undein Fuzzy-Logik-Relais (106), das mit den Mikroquellen- und Zuleitungs-Subrelais (104) verbunden ist, um Schutz gegen Kurzschluss auf der Grundlage von in Fuzzy-Form formulierten Regeln für die Interaktion der Vielzahl von Parametern bereitzustellen, wobei der Fuzzy-Logik-Regler (106) Eingaben zur Normalisierung unter Verwendung von Einheiten der Vielzahl von Parametern entgegennimmt und eine Ausgabe in binärer Form zum Erkennen eines CB-Zustands erzeugt.',\n",
       "   'relevance_score': 0.6360689401626587,\n",
       "   'explanation': 'Semantic Match: 0 direct keywords, Average Semantic Similarity: 1.32'},\n",
       "  {'abstract': 'L&#39;invenzione concerne un&#39;apparecchiatura (10) per il ricevimento e lo stoccaggio di posta (M) e/o prodotti deperibili comprendente: un corpo (12) dotato di una prima cavità interna (30) predisposta per contenere la posta (M); una seconda cavità interna (32) a temperatura controllata per contenere prodotti deperibili; un dispositivo di condizionamento della temperatura; un elemento di chiusura mobile (14) che consente o impedisce l&#39;accesso alle cavità interne; un dispositivo di interfaccia utente (16) che consente l&#39;ingresso e l&#39;uscita di segnali audio e video; un dispositivo di interfaccia di rete che mette in comunicazione il dispositivo di interfaccia utente (16) con un dispositivo remoto; e una unità elettronica di controllo che controlla e gestisce l&#39;elemento di interfaccia utente (16), il dispositivo di interfaccia di rete e l&#39;elemento di chiusura mobile (14). Il dispositivo di interfaccia utente (16) attiva una comunicazione con il dispositivo remoto. L&#39;unità elettronica di controllo genera almeno un codice alfanumerico casuale. Il dispositivo di interfaccia di rete invia il codice alfanumerico casuale al dispositivo remoto. Il dispositivo remoto invia all&#39;unità elettronica di controllo un segnale di sblocco, che è basato sul codice alfanumerico casuale, per sbloccare l&#39;elemento di chiusura mobile (14) e per consentire l&#39;introduzione e/o il prelievo di articoli di posta (M) e/o prodotti deperibili nella e/o dalla prima cavità interna (30) e/o seconda cavità interna (32).',\n",
       "   'relevance_score': 0.6160981059074402,\n",
       "   'explanation': 'Semantic Match: 0 direct keywords, Average Semantic Similarity: 1.15'},\n",
       "  {'abstract': 'Urheiluvälineen (100), erityisesti mailan, otekohdan (30) suojus, joka käsittää kalvomaisesta materiaalista valmistetun seinämän (10), joka on järjestettävissä putkimaiseen muotoon mainitun otekohdan (30) ympärille ja jossa seinämässä (10) on vettä imevä sisäkerros (12), tunnettu siitä, että mainitussa seinämässä (10) on lisäksi olennaisesti vedenpitävä ulkokerros (14).',\n",
       "   'relevance_score': 0.5710604190826416,\n",
       "   'explanation': 'Semantic Match: 0 direct keywords, Average Semantic Similarity: 0.93'},\n",
       "  {'abstract': 'Embodiments of the present disclosure provide a method for evaluating wellbore annular volume, the method comprising: pumping the drilling fluid into the well annulus from the bottom of the well, and determining the initial moment when the drilling fluid into the well annulus is fed with the tracer; collecting a drilling fluid flowback fluid sample from a wellhead according to a preset sampling moment, and determining the flow rate of the drilling fluid flowback fluid into which the tracer is put; detecting the concentration of the tracer in the drilling fluid flowback fluid sample to determine the initial moment when the drilling fluid fed with the tracer returns out of the borehole annulus; the volume of the borehole annulus was evaluated:  T  1  represents the initial time when the tracer-injected drilling fluid returns out of the borehole annulus; t  0  represents the initial time when the tracer-fed drilling fluid enters the borehole annulus; q represents the flow rate of the tracer-fed drilling fluid flowback fluid. The method can scientifically and simply evaluate the annular volume of the well bore, and provides accurate basis for accurately designing the cement slurry amount for well cementation.',\n",
       "   'relevance_score': 0.5584028959274292,\n",
       "   'explanation': 'Semantic Match: 0 direct keywords, Average Semantic Similarity: 1.76'},\n",
       "  {'abstract': 'De uitvinding heeft betrekking op een matrasdrager van het type boxspring. Deze zijn genoegzaam gekend als een matrasdrager, typisch in een box (bak)-vorm, gevuld met dragers, typisch bestaande uit veren, dewelke een bovenliggende matras verend ondersteunen. Het is een kenmerk van de boxspring volgens de onderhavige vinding, dat deze één of meerdere zones bevat met een onderling verschillende hardheid, echter zodoende dat aanliggende zones volledig onafhankelijk van elkaar kunnen werken.',\n",
       "   'relevance_score': 0.5534504652023315,\n",
       "   'explanation': 'Semantic Match: 0 direct keywords, Average Semantic Similarity: 1.23'},\n",
       "  {'abstract': 'Opfindelsen angår et reolmodul og tilhørende ophængsbeslag (2.) i plademateriale for dannelse af et reolsystem ved sammenkobling af flere reolmoduler, omfattende en bagplade (4.) med et antal vandret og lodret placerede aflange taphuller (4.a) og med et ophængsbeslag (2.) der har et antal tilsvarende og korresponderende taphuller (2.b) og en lodret bæreplade (5.) med gribetapper (5.a) beregnet til indførelse i bagpladens (4.) lodrette taphuller (4.a) samt en hyldepladeslids (5.f) og en vandret hyldeplade (6.) med klemtapper (6.a) beregnet til indførelse i bagpladens (4.) vandrette taphuller (4.a) samt en bærepladeslids (6.e) og hvor hyldepladeslidsen (5.f) og bærepladeslidsen (6.e) er beregnet til at gå i indgreb med hinanden. For sammenkobling af flere reolmoduler udføres kanterne af bærepladen (5.) og hyldepladen (6.) med svalehaler (5.h) og (6.f), hvori sommerfugle (8.) er beregnet til at blive nedfældet i to sammenstillede svalehaler (5.h) eller (6.f) til stabile lodrette eller vandrette sammenkoblinger af reolmodulerne. Mellem to bæreplader (5.) er beregnet fastgørelse af en sarg (7.) til understøtning af to sammenkoblede hyldeplader (6.) Herved tilvejebringes et reolmodul og tilhørende ophængsbeslag der kan fremstilles i samme plademateriale i en enkel forarbejdningsproces og med sammenføjningsmetoder baseret på demontérbare enkeltdele der nemt kan udskiftes.',\n",
       "   'relevance_score': 0.544827401638031,\n",
       "   'explanation': 'Semantic Match: 0 direct keywords, Average Semantic Similarity: 1.25'},\n",
       "  {'abstract': 'Der beskrives et apparat samt en fremgangsmåde til maling af en fælg eller andet rotationssymmetrisk emne. Apparatet omfatter - en påføringsenhed med sprøjtedyser for påføring af en UV-hærdbar væske på fælgen, - en fælgholder forsynet med monteringsorganer for udløseligt at fastholde fælgen for at rotere denne om en rotationsakse, fortrinsvis sammenfaldende med fælgens centerakse, under påføring af UV-hærdbar væske, - en ophængningsbøjle hvori fælgholderen er monteret og som er indrettet for at rotere fælgholderen om en drejeakse, der forløber vinkelret på rotationsaksen, fortrinsvis sammenfaldende med en diameter gennem fælgen og for at vinkle fælgholderen samtidig med at emnet roteres, - en belysningsenhed, der er er forsynet med UV-hærdningslys, samt - en styring, der er forbundet med apparatets forskellige elementer for at styre disse under drift.',\n",
       "   'relevance_score': 0.5391975045204163,\n",
       "   'explanation': 'Semantic Match: 0 direct keywords, Average Semantic Similarity: 0.97'},\n",
       "  {'abstract': '\\ufeffЗаявленная группа изобретений относится к устройству и способу изготовления изогнутых полимерных композитных стержней для трехслойных ограждающих конструкций. Технический результат, заключающийся в усовершенствовании технологической линии и способа, достигается тем, что линия содержит шпулярник с ровингами, устройство натяжения и просушки нитей ровинга, пропиточную подогреваемую ванну, отжимное устройство, обмоточный узел, печь предварительного нагрева жгута, устройство формовки, содержащее узел укладки жгута, транспортер с одной движущейся цепью и установленными на нем кронштейнами с подогреваемыми захватами, печь отверждения стержня, устройства охлаждения и съема стержня, имеется пульт управления. Способ изготовления композитного стержня заключается в сматывании ровинга со шпулярника, его натягивании и просушивании, пропитывании компаундом в подогреваемой ванне, отжиме и обмотке жгута, предварительном нагревании в печи, формовке жгута, его отверждении, охлаждении и наматывании готового стержня на намоточном устройстве или нарезании, управляют пультом.',\n",
       "   'relevance_score': 0.5391557216644287,\n",
       "   'explanation': 'Semantic Match: 0 direct keywords, Average Semantic Similarity: 1.06'},\n",
       "  {'abstract': 'تتضمن النظم والطرق المستخدمة لإزالة واستبدال مادة أولى مانعة للتسرب في بئر جوفي وصلة تشغيل تقع في نهاية سلسلة تشغيل. يمتد منفذ التوجيه الحلزوني عبر وصلة التشغيل. يقع مخرج منفذ خاص بمنفذ التوجيه في نهاية قاع بئر منفذ التوجيه ويمتد عبر جدار جانبي لوصلة التشغيل. يمكن تمديد التجميعة الداخلية من خلال منفذ التوجيه. تقع تجميعة الرأس في نهاية حفر التجميعة الداخلية. يُضبط حجم تجميعة الرأس لتمريرها عبر مخرج المنفذ وتوجه لحفر مسار حلزوني داخل مادة أولى مانعة للتسرب خارجة بشكل قطري من الغلاف الداخلي وتُشكل فراغ. [شكل 1]',\n",
       "   'relevance_score': 0.5344142913818359,\n",
       "   'explanation': 'Semantic Match: 0 direct keywords, Average Semantic Similarity: 1.07'}],\n",
       " 'metadata': {'keywords': ['neural networks'],\n",
       "  'keyword_languages': ['af'],\n",
       "  'total_matches': 10,\n",
       "  'embedding_model': 'paraphrase-multilingual-MiniLM-L12-v2'}}"
      ]
     },
     "execution_count": 10,
     "metadata": {},
     "output_type": "execute_result"
    }
   ],
   "source": [
    "results"
   ]
  },
  {
   "cell_type": "code",
   "execution_count": null,
   "metadata": {},
   "outputs": [],
   "source": []
  },
  {
   "cell_type": "code",
   "execution_count": 15,
   "metadata": {},
   "outputs": [],
   "source": [
    "from sentence_transformers import SentenceTransformer\n",
    "model_name = 'paraphrase-multilingual-MiniLM-L12-v2'\n",
    "\n",
    "dataset_path = 'data.txt'\n",
    "with open(dataset_path, 'r', encoding='utf-8') as f:\n",
    "        abstracts = [line.strip() for line in f if line.strip()]\n",
    "\n",
    "embedding_model = SentenceTransformer(model_name)"
   ]
  },
  {
   "cell_type": "code",
   "execution_count": 17,
   "metadata": {},
   "outputs": [
    {
     "name": "stderr",
     "output_type": "stream",
     "text": [
      "Batches: 100%|██████████| 149/149 [01:59<00:00,  1.25it/s]\n"
     ]
    },
    {
     "data": {
      "text/plain": [
       "array([[-2.03747511e-01,  1.21378601e-01, -6.02315180e-02, ...,\n",
       "         4.09809090e-02,  9.79742333e-02,  4.19432037e-02],\n",
       "       [-1.36754528e-01,  7.73538202e-02,  1.05353887e-04, ...,\n",
       "         1.42191842e-01, -6.86783344e-02, -6.61074594e-02],\n",
       "       [-1.98834583e-01,  2.59342819e-01, -1.01848036e-01, ...,\n",
       "         4.87742871e-02,  4.62971851e-02,  1.57786086e-01],\n",
       "       ...,\n",
       "       [-2.10812226e-01, -2.30406061e-01, -5.19740283e-02, ...,\n",
       "        -1.15486093e-01,  4.18789685e-01, -2.50725299e-01],\n",
       "       [-2.06438228e-01,  6.61195591e-02,  5.26558282e-03, ...,\n",
       "         2.50838548e-01,  9.99633148e-02,  2.03573942e-01],\n",
       "       [ 5.66709712e-02,  1.66989371e-01, -3.45250443e-02, ...,\n",
       "         2.12270036e-01,  1.96872234e-01,  3.91879268e-02]], dtype=float32)"
      ]
     },
     "execution_count": 17,
     "metadata": {},
     "output_type": "execute_result"
    }
   ],
   "source": [
    "embedding_model.encode(sentences=abstracts, show_progress_bar=True)"
   ]
  },
  {
   "cell_type": "code",
   "execution_count": null,
   "metadata": {},
   "outputs": [],
   "source": []
  },
  {
   "cell_type": "code",
   "execution_count": null,
   "metadata": {},
   "outputs": [],
   "source": []
  },
  {
   "cell_type": "code",
   "execution_count": null,
   "metadata": {},
   "outputs": [],
   "source": []
  }
 ],
 "metadata": {
  "kernelspec": {
   "display_name": ".venv",
   "language": "python",
   "name": "python3"
  },
  "language_info": {
   "codemirror_mode": {
    "name": "ipython",
    "version": 3
   },
   "file_extension": ".py",
   "mimetype": "text/x-python",
   "name": "python",
   "nbconvert_exporter": "python",
   "pygments_lexer": "ipython3",
   "version": "3.12.4"
  }
 },
 "nbformat": 4,
 "nbformat_minor": 2
}
